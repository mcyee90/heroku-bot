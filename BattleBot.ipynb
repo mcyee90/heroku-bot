{
 "cells": [
  {
   "cell_type": "code",
   "execution_count": 12,
   "metadata": {
    "collapsed": true
   },
   "outputs": [],
   "source": [
    "# Dependencies\n",
    "import numpy as np\n",
    "import pandas as pd\n",
    "import tweepy\n",
    "import time\n",
    "import json\n",
    "import random\n",
    "\n",
    "from config import twitterConsumerKey, twitterConsumerSecret, twitterAccessToken, twitterAccessTokenSecret\n",
    "\n",
    "auth = tweepy.OAuthHandler(twitterConsumerKey, twitterConsumerSecret)\n",
    "auth.set_access_token(twitterAccessToken, twitterAccessTokenSecret)\n",
    "api = tweepy.API(auth, parser=tweepy.parsers.JSONParser())"
   ]
  },
  {
   "cell_type": "code",
   "execution_count": 15,
   "metadata": {},
   "outputs": [],
   "source": [
    "# Target Term\n",
    "my_username = \"mattPlotLib\"\n",
    "conversation_partner = \"mlee0416\"\n",
    "\n",
    "# Send opening message to conversation partner\n",
    "api.update_status(\"Hey %s!! How's it going?\" % conversation_partner)\n",
    "\n",
    "# Response Lines\n",
    "response = [\"Twitter bots are awesome!\",\n",
    "            \"I want to slam my keyboard!\",\n",
    "            \"We need more tweets\",\n",
    "            \"http://gph.is/2n80Tbv\"]"
   ]
  },
  {
   "cell_type": "code",
   "execution_count": 16,
   "metadata": {},
   "outputs": [],
   "source": [
    "def converse():\n",
    "    public_tweets = api.search(conversation_partner, count = 1, result_type=\"recent\")\n",
    "    print (public_tweets)\n",
    "    for tweet in public_tweets['statuses']:\n",
    "        tweet_id = tweet[\"id\"]\n",
    "        tweeter = tweet[\"user\"][\"screen_name\"]\n",
    "        print (f'{tweet_id}: {tweeter}')\n",
    "        api.update_status(f\"@{tweeter} {random.choice(response)}!!!\", in_reply_to_status_id=tweet_id)\n",
    "        print (\"done\") \n",
    "    print (f'{tweet_id}:{tweeter}')"
   ]
  },
  {
   "cell_type": "code",
   "execution_count": null,
   "metadata": {},
   "outputs": [
    {
     "name": "stdout",
     "output_type": "stream",
     "text": [
      "{'statuses': [{'created_at': 'Wed Mar 07 04:55:01 +0000 2018', 'id': 971247826087940097, 'id_str': '971247826087940097', 'text': \"Hey mlee0416! How's it going?\", 'truncated': False, 'entities': {'hashtags': [], 'symbols': [], 'user_mentions': [], 'urls': []}, 'metadata': {'iso_language_code': 'en', 'result_type': 'recent'}, 'source': '<a href=\"http://www.google.com\" rel=\"nofollow\">DataBootcampProject</a>', 'in_reply_to_status_id': None, 'in_reply_to_status_id_str': None, 'in_reply_to_user_id': None, 'in_reply_to_user_id_str': None, 'in_reply_to_screen_name': None, 'user': {'id': 969399451289661440, 'id_str': '969399451289661440', 'name': 'Matt Yee', 'screen_name': 'mattPlotLib', 'location': '', 'description': '', 'url': None, 'entities': {'description': {'urls': []}}, 'protected': False, 'followers_count': 2, 'friends_count': 4, 'listed_count': 0, 'created_at': 'Fri Mar 02 02:30:14 +0000 2018', 'favourites_count': 0, 'utc_offset': None, 'time_zone': None, 'geo_enabled': False, 'verified': False, 'statuses_count': 36, 'lang': 'en', 'contributors_enabled': False, 'is_translator': False, 'is_translation_enabled': False, 'profile_background_color': '000000', 'profile_background_image_url': 'http://abs.twimg.com/images/themes/theme1/bg.png', 'profile_background_image_url_https': 'https://abs.twimg.com/images/themes/theme1/bg.png', 'profile_background_tile': False, 'profile_image_url': 'http://abs.twimg.com/sticky/default_profile_images/default_profile_normal.png', 'profile_image_url_https': 'https://abs.twimg.com/sticky/default_profile_images/default_profile_normal.png', 'profile_link_color': '1B95E0', 'profile_sidebar_border_color': '000000', 'profile_sidebar_fill_color': '000000', 'profile_text_color': '000000', 'profile_use_background_image': False, 'has_extended_profile': False, 'default_profile': False, 'default_profile_image': True, 'following': False, 'follow_request_sent': False, 'notifications': False, 'translator_type': 'none'}, 'geo': None, 'coordinates': None, 'place': None, 'contributors': None, 'is_quote_status': False, 'retweet_count': 0, 'favorite_count': 0, 'favorited': False, 'retweeted': False, 'lang': 'en'}], 'search_metadata': {'completed_in': 0.022, 'max_id': 971247826087940097, 'max_id_str': '971247826087940097', 'next_results': '?max_id=971247826087940096&q=mlee0416&count=1&include_entities=1&result_type=recent', 'query': 'mlee0416', 'refresh_url': '?since_id=971247826087940097&q=mlee0416&result_type=recent&include_entities=1', 'count': 1, 'since_id': 0, 'since_id_str': '0'}}\n",
      "971247826087940097: mattPlotLib\n",
      "done\n",
      "971247826087940097:mattPlotLib\n",
      "{'statuses': [{'created_at': 'Wed Mar 07 04:57:15 +0000 2018', 'id': 971248387659005957, 'id_str': '971248387659005957', 'text': \"Hey mlee0416!! How's it going?\", 'truncated': False, 'entities': {'hashtags': [], 'symbols': [], 'user_mentions': [], 'urls': []}, 'metadata': {'iso_language_code': 'en', 'result_type': 'recent'}, 'source': '<a href=\"http://www.google.com\" rel=\"nofollow\">DataBootcampProject</a>', 'in_reply_to_status_id': None, 'in_reply_to_status_id_str': None, 'in_reply_to_user_id': None, 'in_reply_to_user_id_str': None, 'in_reply_to_screen_name': None, 'user': {'id': 969399451289661440, 'id_str': '969399451289661440', 'name': 'Matt Yee', 'screen_name': 'mattPlotLib', 'location': '', 'description': '', 'url': None, 'entities': {'description': {'urls': []}}, 'protected': False, 'followers_count': 2, 'friends_count': 4, 'listed_count': 0, 'created_at': 'Fri Mar 02 02:30:14 +0000 2018', 'favourites_count': 0, 'utc_offset': None, 'time_zone': None, 'geo_enabled': False, 'verified': False, 'statuses_count': 37, 'lang': 'en', 'contributors_enabled': False, 'is_translator': False, 'is_translation_enabled': False, 'profile_background_color': '000000', 'profile_background_image_url': 'http://abs.twimg.com/images/themes/theme1/bg.png', 'profile_background_image_url_https': 'https://abs.twimg.com/images/themes/theme1/bg.png', 'profile_background_tile': False, 'profile_image_url': 'http://abs.twimg.com/sticky/default_profile_images/default_profile_normal.png', 'profile_image_url_https': 'https://abs.twimg.com/sticky/default_profile_images/default_profile_normal.png', 'profile_link_color': '1B95E0', 'profile_sidebar_border_color': '000000', 'profile_sidebar_fill_color': '000000', 'profile_text_color': '000000', 'profile_use_background_image': False, 'has_extended_profile': False, 'default_profile': False, 'default_profile_image': True, 'following': False, 'follow_request_sent': False, 'notifications': False, 'translator_type': 'none'}, 'geo': None, 'coordinates': None, 'place': None, 'contributors': None, 'is_quote_status': False, 'retweet_count': 0, 'favorite_count': 0, 'favorited': False, 'retweeted': False, 'lang': 'en'}], 'search_metadata': {'completed_in': 0.015, 'max_id': 971248387659005957, 'max_id_str': '971248387659005957', 'next_results': '?max_id=971248387659005956&q=mlee0416&count=1&include_entities=1&result_type=recent', 'query': 'mlee0416', 'refresh_url': '?since_id=971248387659005957&q=mlee0416&result_type=recent&include_entities=1', 'count': 1, 'since_id': 0, 'since_id_str': '0'}}\n",
      "971248387659005957: mattPlotLib\n",
      "done\n",
      "971248387659005957:mattPlotLib\n"
     ]
    }
   ],
   "source": [
    "# @TODO: Set timer to run every minute\n",
    "t_end = time.time() + 60*5\n",
    "\n",
    "while(time.time() < t_end):\n",
    "    converse()\n",
    "    time.sleep(60)"
   ]
  },
  {
   "cell_type": "code",
   "execution_count": null,
   "metadata": {
    "collapsed": true
   },
   "outputs": [],
   "source": []
  }
 ],
 "metadata": {
  "kernelspec": {
   "display_name": "Python [conda env:pythondata]",
   "language": "python",
   "name": "conda-env-pythondata-py"
  },
  "language_info": {
   "codemirror_mode": {
    "name": "ipython",
    "version": 3
   },
   "file_extension": ".py",
   "mimetype": "text/x-python",
   "name": "python",
   "nbconvert_exporter": "python",
   "pygments_lexer": "ipython3",
   "version": "3.6.3"
  }
 },
 "nbformat": 4,
 "nbformat_minor": 2
}
